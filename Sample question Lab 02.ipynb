{
  "nbformat": 4,
  "nbformat_minor": 0,
  "metadata": {
    "colab": {
      "provenance": [],
      "toc_visible": true,
      "authorship_tag": "ABX9TyOGjDW4zWLHe8N1MiyzVCYL",
      "include_colab_link": true
    },
    "kernelspec": {
      "name": "python3",
      "display_name": "Python 3"
    },
    "language_info": {
      "name": "python"
    }
  },
  "cells": [
    {
      "cell_type": "markdown",
      "metadata": {
        "id": "view-in-github",
        "colab_type": "text"
      },
      "source": [
        "<a href=\"https://colab.research.google.com/github/2303A510J4/Python-For-DataScience-_LAB-2025/blob/main/Sample%20question%20Lab%2002.ipynb\" target=\"_parent\"><img src=\"https://colab.research.google.com/assets/colab-badge.svg\" alt=\"Open In Colab\"/></a>"
      ]
    },
    {
      "cell_type": "code",
      "execution_count": 1,
      "metadata": {
        "id": "NmS62qEhzgnL"
      },
      "outputs": [],
      "source": [
        "import numpy as np\n",
        "import pandas as pd\n"
      ]
    },
    {
      "cell_type": "markdown",
      "source": [
        "Add arrays\n"
      ],
      "metadata": {
        "id": "qFkkt97d8AmZ"
      }
    },
    {
      "cell_type": "code",
      "source": [
        "arr = np.array ([10,20,30,40,50])\n",
        "print('Original Array:',arr)\n"
      ],
      "metadata": {
        "colab": {
          "base_uri": "https://localhost:8080/"
        },
        "id": "72rCHucr4hWa",
        "outputId": "11500eec-8f8f-44c4-e6df-6d4b88cf4539"
      },
      "execution_count": 4,
      "outputs": [
        {
          "output_type": "stream",
          "name": "stdout",
          "text": [
            "Original Array: [10 20 30 40 50]\n"
          ]
        }
      ]
    },
    {
      "cell_type": "markdown",
      "source": [
        "Creating the DataFrame"
      ],
      "metadata": {
        "id": "k9_GWfEp606S"
      }
    },
    {
      "cell_type": "code",
      "source": [
        "data = {\n",
        "'Name': ['Alice', 'Bob', 'Charlie', 'David'],\n",
        "'Age': [25, 30, 35, 40],\n",
        "'Score': [85.5, 92.0, 88.0, 76.5]\n",
        "}"
      ],
      "metadata": {
        "id": "oQA2Yrx3468S"
      },
      "execution_count": 5,
      "outputs": []
    },
    {
      "cell_type": "code",
      "source": [
        "df = pd.DataFrame(data)\n",
        "print(\"Original Frame:\",df)"
      ],
      "metadata": {
        "colab": {
          "base_uri": "https://localhost:8080/"
        },
        "id": "ihGQG2Lw5RvR",
        "outputId": "7868f862-2888-46b9-e725-6509af5fcd20"
      },
      "execution_count": 12,
      "outputs": [
        {
          "output_type": "stream",
          "name": "stdout",
          "text": [
            "Original Frame:       Name  Age  Score\n",
            "0    Alice   25   85.5\n",
            "1      Bob   30   92.0\n",
            "2  Charlie   35   88.0\n",
            "3    David   40   76.5\n"
          ]
        }
      ]
    },
    {
      "cell_type": "markdown",
      "source": [
        "Adding a new coloumn"
      ],
      "metadata": {
        "id": "nqkzt-_b6jzT"
      }
    },
    {
      "cell_type": "code",
      "source": [
        "df['Passed'] = df['Score'] >= 80\n",
        "print(\"\\nDataFrame with 'Passed' column:\\n\", df)\n"
      ],
      "metadata": {
        "colab": {
          "base_uri": "https://localhost:8080/"
        },
        "id": "v9eAZaNs58HC",
        "outputId": "8c291e16-75b1-480f-e90e-6581096deb7f"
      },
      "execution_count": 13,
      "outputs": [
        {
          "output_type": "stream",
          "name": "stdout",
          "text": [
            "\n",
            "DataFrame with 'Passed' column:\n",
            "       Name  Age  Score  Passed\n",
            "0    Alice   25   85.5    True\n",
            "1      Bob   30   92.0    True\n",
            "2  Charlie   35   88.0    True\n",
            "3    David   40   76.5   False\n"
          ]
        }
      ]
    },
    {
      "cell_type": "code",
      "source": [
        "older_students = df[df['Age'] > 30]\n",
        "print(\"\\nStudents older than 30:\\n\", older_students)"
      ],
      "metadata": {
        "colab": {
          "base_uri": "https://localhost:8080/"
        },
        "id": "1FqQxFkd6MRz",
        "outputId": "b14d5b9e-4f36-4b57-e2bd-66f20cb7c149"
      },
      "execution_count": 14,
      "outputs": [
        {
          "output_type": "stream",
          "name": "stdout",
          "text": [
            "\n",
            "Students older than 30:\n",
            "       Name  Age  Score  Passed\n",
            "2  Charlie   35   88.0    True\n",
            "3    David   40   76.5   False\n"
          ]
        }
      ]
    },
    {
      "cell_type": "markdown",
      "source": [
        "Finding the mean"
      ],
      "metadata": {
        "id": "RXCdTqD16qyq"
      }
    },
    {
      "cell_type": "code",
      "source": [
        "average_score = df['Score'].mean()\n",
        "print(\"\\nAverage Score:\", average_score)"
      ],
      "metadata": {
        "colab": {
          "base_uri": "https://localhost:8080/"
        },
        "id": "kktrkSpz6QXC",
        "outputId": "8942b732-3b3e-48e2-ef8b-92a8ba10ee37"
      },
      "execution_count": 15,
      "outputs": [
        {
          "output_type": "stream",
          "name": "stdout",
          "text": [
            "\n",
            "Average Score: 85.5\n"
          ]
        }
      ]
    }
  ]
}