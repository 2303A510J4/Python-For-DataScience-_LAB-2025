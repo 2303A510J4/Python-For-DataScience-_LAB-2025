{
  "nbformat": 4,
  "nbformat_minor": 0,
  "metadata": {
    "colab": {
      "provenance": [],
      "authorship_tag": "ABX9TyN+C9PBg8kXm4d05fhL0lMx",
      "include_colab_link": true
    },
    "kernelspec": {
      "name": "python3",
      "display_name": "Python 3"
    },
    "language_info": {
      "name": "python"
    }
  },
  "cells": [
    {
      "cell_type": "markdown",
      "metadata": {
        "id": "view-in-github",
        "colab_type": "text"
      },
      "source": [
        "<a href=\"https://colab.research.google.com/github/2303A510J4/Python-For-DataScience-_LAB-2025/blob/main/pds_lab_06.ipynb\" target=\"_parent\"><img src=\"https://colab.research.google.com/assets/colab-badge.svg\" alt=\"Open In Colab\"/></a>"
      ]
    },
    {
      "cell_type": "code",
      "execution_count": 8,
      "metadata": {
        "colab": {
          "base_uri": "https://localhost:8080/"
        },
        "id": "7EZjuye1eu41",
        "outputId": "d6be5306-bdd0-4c89-adeb-6c5bedec7888"
      },
      "outputs": [
        {
          "output_type": "stream",
          "name": "stdout",
          "text": [
            "Before Cleaning:\n",
            "    Patient_ID  Age\n",
            "0         101   25\n",
            "1         102   45\n",
            "2         103  130\n",
            "3         104   -5\n",
            "4         105   67\n",
            "5         106   89\n",
            "6         107  200\n",
            "\n",
            "After Cleaning:\n",
            "    Patient_ID  Age\n",
            "0         101   25\n",
            "1         102   45\n",
            "4         105   67\n",
            "5         106   89\n",
            "\n",
            "Discussion: Outlier removal helps maintain realistic data quality, avoids misleading analysis, and improves the accuracy of ML models.\n"
          ]
        }
      ],
      "source": [
        "import pandas as pd\n",
        "\n",
        "\n",
        "data = {\n",
        "    \"Patient_ID\": [101, 102, 103, 104, 105, 106, 107],\n",
        "        \"Age\": [25, 45, 130, -5, 67, 89, 200]\n",
        "        }\n",
        "\n",
        "df = pd.DataFrame(data)\n",
        "print(\"Before Cleaning:\\n\", df)\n",
        "\n",
        "\n",
        "cleaned_df = df[(df[\"Age\"] >= 0) & (df[\"Age\"] <= 120)]\n",
        "\n",
        "print(\"\\nAfter Cleaning:\\n\", cleaned_df)\n",
        "\n",
        "\n",
        "print(\"\\nDiscussion: Outlier removal helps maintain realistic data quality, \"\n",
        "      \"avoids misleading analysis, and improves the accuracy of ML models.\")"
      ]
    },
    {
      "cell_type": "code",
      "source": [
        "import pandas as pd\n",
        "from sklearn.preprocessing import MinMaxScaler, StandardScaler\n",
        "\n",
        "\n",
        "data = {\n",
        "    \"Customer_ID\": [1, 2, 3, 4, 5],\n",
        "        \"Income\": [25000, 50000, 75000, 100000, 150000]\n",
        "        }\n",
        "\n",
        "df = pd.DataFrame(data)\n",
        "print(\"Original Data:\\n\", df)\n",
        "\n",
        "\n",
        "scaler = MinMaxScaler()\n",
        "df[\"Income_MinMax\"] = scaler.fit_transform(df[[\"Income\"]])\n",
        "\n",
        "\n",
        "std_scaler = StandardScaler()\n",
        "df[\"Income_Standardized\"] = std_scaler.fit_transform(df[[\"Income\"]])\n",
        "\n",
        "print(\"\\nAfter Scaling:\\n\", df)\n",
        "\n",
        "\n",
        "print(\"\\nDiscussion: Min-Max normalization is useful for bounded features (e.g., [0,1]) \"\n",
        "              \"in neural networks, while Standardization (Z-score) is preferred for algorithms \"\n",
        "                    \"like SVM, Logistic Regression, or clustering.\")"
      ],
      "metadata": {
        "colab": {
          "base_uri": "https://localhost:8080/"
        },
        "id": "MUEHnZYzfT6i",
        "outputId": "f3718fe2-e3a9-4ba2-9083-56cfed3ef439"
      },
      "execution_count": 9,
      "outputs": [
        {
          "output_type": "stream",
          "name": "stdout",
          "text": [
            "Original Data:\n",
            "    Customer_ID  Income\n",
            "0            1   25000\n",
            "1            2   50000\n",
            "2            3   75000\n",
            "3            4  100000\n",
            "4            5  150000\n",
            "\n",
            "After Scaling:\n",
            "    Customer_ID  Income  Income_MinMax  Income_Standardized\n",
            "0            1   25000            0.0            -1.278724\n",
            "1            2   50000            0.2            -0.697486\n",
            "2            3   75000            0.4            -0.116248\n",
            "3            4  100000            0.6             0.464991\n",
            "4            5  150000            1.0             1.627467\n",
            "\n",
            "Discussion: Min-Max normalization is useful for bounded features (e.g., [0,1]) in neural networks, while Standardization (Z-score) is preferred for algorithms like SVM, Logistic Regression, or clustering.\n"
          ]
        }
      ]
    }
  ]
}