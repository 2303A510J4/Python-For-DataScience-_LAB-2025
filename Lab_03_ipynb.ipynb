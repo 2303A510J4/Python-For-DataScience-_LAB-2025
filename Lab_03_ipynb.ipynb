{
  "nbformat": 4,
  "nbformat_minor": 0,
  "metadata": {
    "colab": {
      "provenance": [],
      "authorship_tag": "ABX9TyPwChoZPOI+XOqGCHgRJxGZ",
      "include_colab_link": true
    },
    "kernelspec": {
      "name": "python3",
      "display_name": "Python 3"
    },
    "language_info": {
      "name": "python"
    }
  },
  "cells": [
    {
      "cell_type": "markdown",
      "metadata": {
        "id": "view-in-github",
        "colab_type": "text"
      },
      "source": [
        "<a href=\"https://colab.research.google.com/github/2303A510J4/Python-For-DataScience-_LAB-2025/blob/main/Lab_03_ipynb.ipynb\" target=\"_parent\"><img src=\"https://colab.research.google.com/assets/colab-badge.svg\" alt=\"Open In Colab\"/></a>"
      ]
    },
    {
      "cell_type": "code",
      "execution_count": 7,
      "metadata": {
        "colab": {
          "base_uri": "https://localhost:8080/"
        },
        "id": "BxUT7O0VPibf",
        "outputId": "8649b962-3c5c-4884-f7e1-427389799567"
      },
      "outputs": [
        {
          "output_type": "stream",
          "name": "stdout",
          "text": [
            "Test Scores (4x4):\n",
            " [[66 62 76 26]\n",
            " [63 92 10 90]\n",
            " [79 15 88 46]\n",
            " [89 43 70 12]]\n",
            "\n",
            "Row-wise Means: [57.5  63.75 57.   53.5 ]\n",
            "\n",
            "Global Maximum Value: 92 at index (np.int64(1), np.int64(1))\n",
            "Global Minimum Value: 10 at index (np.int64(1), np.int64(2))\n"
          ]
        }
      ],
      "source": [
        "import numpy as np\n",
        "scores = np.random.randint(0, 101, (4, 4))\n",
        "print(\"Test Scores (4x4):\\n\", scores)\n",
        "row_means = np.mean(scores, axis=1)\n",
        "print(\"\\nRow-wise Means:\", row_means)\n",
        "\n",
        "max_val = np.max(scores)\n",
        "min_val = np.min(scores)\n",
        "max_index = np.unravel_index(np.argmax(scores), scores.shape)\n",
        "min_index = np.unravel_index(np.argmin(scores), scores.shape)\n",
        "\n",
        "print(\"\\nGlobal Maximum Value:\", max_val, \"at index\", max_index)\n",
        "print(\"Global Minimum Value:\", min_val, \"at index\", min_index)\n",
        "\n",
        "\n"
      ]
    },
    {
      "cell_type": "code",
      "source": [
        "col_means = np.mean(scores, axis=0)\n",
        "print(\"Column-wise Means:\", col_means)\n",
        "std_dev = np.std(scores)\n",
        "variance = np.var(scores)\n",
        "print(\"\\nStandard Deviation:\", std_dev)\n",
        "print(\"Variance:\", variance)"
      ],
      "metadata": {
        "colab": {
          "base_uri": "https://localhost:8080/"
        },
        "id": "rnArDpJmV0ww",
        "outputId": "e71a1174-e43e-4e65-d7b9-4dd352aa4cc0"
      },
      "execution_count": 6,
      "outputs": [
        {
          "output_type": "stream",
          "name": "stdout",
          "text": [
            "Column-wise Means: [36.5  44.25 45.   70.5 ]\n",
            "\n",
            "Standard Deviation: 33.78510905339807\n",
            "Variance: 1141.43359375\n"
          ]
        }
      ]
    },
    {
      "cell_type": "code",
      "source": [
        "max_val = np.max(scores)\n",
        "min_val = np.min(scores)\n",
        "max_index = np.unravel_index(np.argmax(scores), scores.shape)\n",
        "min_index = np.unravel_index(np.argmin(scores), scores.shape)\n",
        "\n",
        "print(\"\\nGlobal Maximum Value:\", max_val, \"at index\", max_index)\n",
        "print(\"Global Minimum Value:\", min_val, \"at index\", min_index)\n",
        "\n"
      ],
      "metadata": {
        "colab": {
          "base_uri": "https://localhost:8080/"
        },
        "id": "k29l1LMrV5uP",
        "outputId": "e79d4dd6-a52b-403f-e4da-5d52a1815cb0"
      },
      "execution_count": 5,
      "outputs": [
        {
          "output_type": "stream",
          "name": "stdout",
          "text": [
            "\n",
            "Global Maximum Value: 99 at index (np.int64(3), np.int64(0))\n",
            "Global Minimum Value: 1 at index (np.int64(1), np.int64(2))\n"
          ]
        }
      ]
    },
    {
      "cell_type": "code",
      "source": [
        "import numpy as np\n",
        "import matplotlib.pyplot as plt\n",
        "image = np.random.randint(0, 256, (3, 3, 3), dtype=np.uint8)\n",
        "print(\"Original 3D Image Array:\\n\", image)\n",
        "\n",
        "\n",
        "\n",
        "\n",
        "\n",
        "\n",
        "\n"
      ],
      "metadata": {
        "colab": {
          "base_uri": "https://localhost:8080/"
        },
        "id": "phi7Z9aMWGO_",
        "outputId": "54a0f618-7668-475a-b33e-ce3330eff51a"
      },
      "execution_count": 11,
      "outputs": [
        {
          "output_type": "stream",
          "name": "stdout",
          "text": [
            "Original 3D Image Array:\n",
            " [[[ 13 114 141]\n",
            "  [247   3 166]\n",
            "  [118 110 180]]\n",
            "\n",
            " [[106 250 145]\n",
            "  [145 220  94]\n",
            "  [170 141  45]]\n",
            "\n",
            " [[211 163 111]\n",
            "  [120  89  53]\n",
            "  [ 38  53  30]]]\n"
          ]
        }
      ]
    },
    {
      "cell_type": "code",
      "source": [
        "red_channel = image[:, :, 0]\n",
        "green_channel = image[:, :, 1]\n",
        "blue_channel = image[:, :, 2]\n",
        "\n",
        "print(\"\\nRed Channel:\\n\", red_channel)\n",
        "print(\"Green Channel:\\n\", green_channel)\n",
        "print(\"Blue Channel:\\n\", blue_channel)"
      ],
      "metadata": {
        "colab": {
          "base_uri": "https://localhost:8080/"
        },
        "id": "64L3yX5YWLZf",
        "outputId": "7024baf5-f323-4fea-b248-9fe94a6077a6"
      },
      "execution_count": 10,
      "outputs": [
        {
          "output_type": "stream",
          "name": "stdout",
          "text": [
            "\n",
            "Red Channel:\n",
            " [[137 239  64]\n",
            " [162 130  51]\n",
            " [ 50 148  89]]\n",
            "Green Channel:\n",
            " [[  0  96 195]\n",
            " [ 27 141 183]\n",
            " [127 214 138]]\n",
            "Blue Channel:\n",
            " [[ 33   3 251]\n",
            " [153 187 252]\n",
            " [ 66 188 136]]\n"
          ]
        }
      ]
    },
    {
      "cell_type": "code",
      "source": [
        "\n",
        "avg_red = np.mean(red_channel)\n",
        "avg_green = np.mean(green_channel)\n",
        "avg_blue = np.mean(blue_channel)\n",
        "\n",
        "print(\"\\nAverage Intensities - Red:\", avg_red, \", Green:\", avg_green, \", Blue:\", avg_blue)"
      ],
      "metadata": {
        "colab": {
          "base_uri": "https://localhost:8080/"
        },
        "id": "F4ymytA4WPJ_",
        "outputId": "ef7bf81a-9053-467e-b0f8-e4796b3d6d78"
      },
      "execution_count": 9,
      "outputs": [
        {
          "output_type": "stream",
          "name": "stdout",
          "text": [
            "\n",
            "Average Intensities - Red: 118.88888888888889 , Green: 124.55555555555556 , Blue: 141.0\n"
          ]
        }
      ]
    },
    {
      "cell_type": "code",
      "source": [
        "bright_image = np.clip(image + 50, 0, 255)\n",
        "print(\"\\nBrightened Image Array:\\n\", bright_image)\n",
        "\n",
        "\n",
        "plt.figure(figsize=(8,4))\n",
        "\n",
        "plt.subplot(1, 2, 1)\n",
        "plt.title(\"Original Image\")\n",
        "plt.imshow(image)\n",
        "\n",
        "plt.subplot(1, 2, 2)\n",
        "plt.title(\"Brightened Image\")\n",
        "plt.imshow(bright_image)\n",
        "\n",
        "plt.show()\n"
      ],
      "metadata": {
        "colab": {
          "base_uri": "https://localhost:8080/",
          "height": 590
        },
        "id": "3yGZEPgNWWEH",
        "outputId": "03814002-e5a0-414a-a85b-2033a3b0170d"
      },
      "execution_count": 8,
      "outputs": [
        {
          "output_type": "stream",
          "name": "stdout",
          "text": [
            "\n",
            "Brightened Image Array:\n",
            " [[[187  50  83]\n",
            "  [ 33 146  53]\n",
            "  [114 245  45]]\n",
            "\n",
            " [[212  77 203]\n",
            "  [180 191 237]\n",
            "  [101 233  46]]\n",
            "\n",
            " [[100 177 116]\n",
            "  [198   8 238]\n",
            "  [139 188 186]]]\n"
          ]
        },
        {
          "output_type": "display_data",
          "data": {
            "text/plain": [
              "<Figure size 800x400 with 2 Axes>"
            ],
            "image/png": "[encoded data removed]"
          },
          "metadata": {}
        }
      ]
    }
  ]
}